{
 "cells": [
  {
   "cell_type": "code",
   "execution_count": 1,
   "id": "pNYUl3MKrzDV",
   "metadata": {
    "colab": {
     "base_uri": "https://localhost:8080/"
    },
    "executionInfo": {
     "elapsed": 28213,
     "status": "ok",
     "timestamp": 1623319641791,
     "user": {
      "displayName": "sivan raman",
      "photoUrl": "",
      "userId": "12217115966512154841"
     },
     "user_tz": -330
    },
    "id": "pNYUl3MKrzDV",
    "outputId": "dfa67efa-3d55-4f4d-8859-42538b4e291d"
   },
   "outputs": [
    {
     "name": "stdout",
     "output_type": "stream",
     "text": [
      "Requirement already satisfied: numpy in c:\\users\\hp\\anaconda3\\lib\\site-packages (1.20.3)\n",
      "Requirement already satisfied: pandas in c:\\users\\hp\\anaconda3\\lib\\site-packages (1.3.4)\n",
      "Requirement already satisfied: numpy>=1.17.3 in c:\\users\\hp\\anaconda3\\lib\\site-packages (from pandas) (1.20.3)\n",
      "Requirement already satisfied: python-dateutil>=2.7.3 in c:\\users\\hp\\anaconda3\\lib\\site-packages (from pandas) (2.8.2)\n",
      "Requirement already satisfied: pytz>=2017.3 in c:\\users\\hp\\anaconda3\\lib\\site-packages (from pandas) (2021.3)\n",
      "Requirement already satisfied: six>=1.5 in c:\\users\\hp\\anaconda3\\lib\\site-packages (from python-dateutil>=2.7.3->pandas) (1.16.0)\n",
      "Requirement already satisfied: tensorflow in c:\\users\\hp\\anaconda3\\lib\\site-packages (2.7.0)\n",
      "Requirement already satisfied: keras-preprocessing>=1.1.1 in c:\\users\\hp\\anaconda3\\lib\\site-packages (from tensorflow) (1.1.2)\n",
      "Requirement already satisfied: six>=1.12.0 in c:\\users\\hp\\anaconda3\\lib\\site-packages (from tensorflow) (1.16.0)\n",
      "Requirement already satisfied: libclang>=9.0.1 in c:\\users\\hp\\anaconda3\\lib\\site-packages (from tensorflow) (12.0.0)\n",
      "Requirement already satisfied: gast<0.5.0,>=0.2.1 in c:\\users\\hp\\anaconda3\\lib\\site-packages (from tensorflow) (0.4.0)\n",
      "Requirement already satisfied: opt-einsum>=2.3.2 in c:\\users\\hp\\anaconda3\\lib\\site-packages (from tensorflow) (3.3.0)\n",
      "Requirement already satisfied: tensorboard~=2.6 in c:\\users\\hp\\anaconda3\\lib\\site-packages (from tensorflow) (2.7.0)\n",
      "Requirement already satisfied: wrapt>=1.11.0 in c:\\users\\hp\\anaconda3\\lib\\site-packages (from tensorflow) (1.12.1)\n",
      "Requirement already satisfied: grpcio<2.0,>=1.24.3 in c:\\users\\hp\\anaconda3\\lib\\site-packages (from tensorflow) (1.43.0)\n",
      "Requirement already satisfied: flatbuffers<3.0,>=1.12 in c:\\users\\hp\\anaconda3\\lib\\site-packages (from tensorflow) (2.0)\n",
      "Requirement already satisfied: typing-extensions>=3.6.6 in c:\\users\\hp\\anaconda3\\lib\\site-packages (from tensorflow) (3.10.0.2)\n",
      "Requirement already satisfied: tensorflow-estimator<2.8,~=2.7.0rc0 in c:\\users\\hp\\anaconda3\\lib\\site-packages (from tensorflow) (2.7.0)\n",
      "Requirement already satisfied: astunparse>=1.6.0 in c:\\users\\hp\\anaconda3\\lib\\site-packages (from tensorflow) (1.6.3)\n",
      "Requirement already satisfied: google-pasta>=0.1.1 in c:\\users\\hp\\anaconda3\\lib\\site-packages (from tensorflow) (0.2.0)\n",
      "Requirement already satisfied: termcolor>=1.1.0 in c:\\users\\hp\\anaconda3\\lib\\site-packages (from tensorflow) (1.1.0)\n",
      "Requirement already satisfied: numpy>=1.14.5 in c:\\users\\hp\\anaconda3\\lib\\site-packages (from tensorflow) (1.20.3)\n",
      "Requirement already satisfied: tensorflow-io-gcs-filesystem>=0.21.0 in c:\\users\\hp\\anaconda3\\lib\\site-packages (from tensorflow) (0.23.1)\n",
      "Requirement already satisfied: protobuf>=3.9.2 in c:\\users\\hp\\anaconda3\\lib\\site-packages (from tensorflow) (3.19.3)\n",
      "Requirement already satisfied: absl-py>=0.4.0 in c:\\users\\hp\\anaconda3\\lib\\site-packages (from tensorflow) (1.0.0)\n",
      "Requirement already satisfied: keras<2.8,>=2.7.0rc0 in c:\\users\\hp\\anaconda3\\lib\\site-packages (from tensorflow) (2.7.0)\n",
      "Requirement already satisfied: wheel<1.0,>=0.32.0 in c:\\users\\hp\\anaconda3\\lib\\site-packages (from tensorflow) (0.37.0)\n",
      "Requirement already satisfied: h5py>=2.9.0 in c:\\users\\hp\\anaconda3\\lib\\site-packages (from tensorflow) (3.2.1)\n",
      "Requirement already satisfied: requests<3,>=2.21.0 in c:\\users\\hp\\anaconda3\\lib\\site-packages (from tensorboard~=2.6->tensorflow) (2.26.0)\n",
      "Requirement already satisfied: werkzeug>=0.11.15 in c:\\users\\hp\\anaconda3\\lib\\site-packages (from tensorboard~=2.6->tensorflow) (2.0.2)\n",
      "Requirement already satisfied: google-auth-oauthlib<0.5,>=0.4.1 in c:\\users\\hp\\anaconda3\\lib\\site-packages (from tensorboard~=2.6->tensorflow) (0.4.6)\n",
      "Requirement already satisfied: setuptools>=41.0.0 in c:\\users\\hp\\anaconda3\\lib\\site-packages (from tensorboard~=2.6->tensorflow) (58.0.4)\n",
      "Requirement already satisfied: tensorboard-plugin-wit>=1.6.0 in c:\\users\\hp\\anaconda3\\lib\\site-packages (from tensorboard~=2.6->tensorflow) (1.8.1)\n",
      "Requirement already satisfied: tensorboard-data-server<0.7.0,>=0.6.0 in c:\\users\\hp\\anaconda3\\lib\\site-packages (from tensorboard~=2.6->tensorflow) (0.6.1)\n",
      "Requirement already satisfied: google-auth<3,>=1.6.3 in c:\\users\\hp\\anaconda3\\lib\\site-packages (from tensorboard~=2.6->tensorflow) (2.3.3)\n",
      "Requirement already satisfied: markdown>=2.6.8 in c:\\users\\hp\\anaconda3\\lib\\site-packages (from tensorboard~=2.6->tensorflow) (3.3.6)\n",
      "Requirement already satisfied: rsa<5,>=3.1.4 in c:\\users\\hp\\anaconda3\\lib\\site-packages (from google-auth<3,>=1.6.3->tensorboard~=2.6->tensorflow) (4.8)\n",
      "Requirement already satisfied: pyasn1-modules>=0.2.1 in c:\\users\\hp\\anaconda3\\lib\\site-packages (from google-auth<3,>=1.6.3->tensorboard~=2.6->tensorflow) (0.2.8)\n",
      "Requirement already satisfied: cachetools<5.0,>=2.0.0 in c:\\users\\hp\\anaconda3\\lib\\site-packages (from google-auth<3,>=1.6.3->tensorboard~=2.6->tensorflow) (4.2.4)\n",
      "Requirement already satisfied: requests-oauthlib>=0.7.0 in c:\\users\\hp\\anaconda3\\lib\\site-packages (from google-auth-oauthlib<0.5,>=0.4.1->tensorboard~=2.6->tensorflow) (1.3.0)\n",
      "Requirement already satisfied: importlib-metadata>=4.4 in c:\\users\\hp\\anaconda3\\lib\\site-packages (from markdown>=2.6.8->tensorboard~=2.6->tensorflow) (4.8.1)\n",
      "Requirement already satisfied: zipp>=0.5 in c:\\users\\hp\\anaconda3\\lib\\site-packages (from importlib-metadata>=4.4->markdown>=2.6.8->tensorboard~=2.6->tensorflow) (3.6.0)\n",
      "Requirement already satisfied: pyasn1<0.5.0,>=0.4.6 in c:\\users\\hp\\anaconda3\\lib\\site-packages (from pyasn1-modules>=0.2.1->google-auth<3,>=1.6.3->tensorboard~=2.6->tensorflow) (0.4.8)\n",
      "Requirement already satisfied: certifi>=2017.4.17 in c:\\users\\hp\\anaconda3\\lib\\site-packages (from requests<3,>=2.21.0->tensorboard~=2.6->tensorflow) (2021.10.8)\n",
      "Requirement already satisfied: idna<4,>=2.5 in c:\\users\\hp\\anaconda3\\lib\\site-packages (from requests<3,>=2.21.0->tensorboard~=2.6->tensorflow) (3.2)\n",
      "Requirement already satisfied: urllib3<1.27,>=1.21.1 in c:\\users\\hp\\anaconda3\\lib\\site-packages (from requests<3,>=2.21.0->tensorboard~=2.6->tensorflow) (1.26.7)\n",
      "Requirement already satisfied: charset-normalizer~=2.0.0 in c:\\users\\hp\\anaconda3\\lib\\site-packages (from requests<3,>=2.21.0->tensorboard~=2.6->tensorflow) (2.0.4)\n",
      "Requirement already satisfied: oauthlib>=3.0.0 in c:\\users\\hp\\anaconda3\\lib\\site-packages (from requests-oauthlib>=0.7.0->google-auth-oauthlib<0.5,>=0.4.1->tensorboard~=2.6->tensorflow) (3.1.1)\n"
     ]
    }
   ],
   "source": [
    "#!pip install numpy\n",
    "#!pip install pandas\n",
    "#!pip install tensorflow"
   ]
  },
  {
   "cell_type": "code",
   "execution_count": 4,
   "id": "35705155",
   "metadata": {
    "executionInfo": {
     "elapsed": 2841,
     "status": "ok",
     "timestamp": 1623319677687,
     "user": {
      "displayName": "sivan raman",
      "photoUrl": "",
      "userId": "12217115966512154841"
     },
     "user_tz": -330
    },
    "id": "35705155"
   },
   "outputs": [],
   "source": [
    "import pandas as pd\n",
    "import os\n",
    "# from PIL import Image\n",
    "import numpy as np\n",
    "import numpy as np\n",
    "import random\n",
    "\n",
    "import numpy as np\n",
    "import pandas as pd\n",
    "\n",
    "\n",
    "\n",
    "def getPacketData(key):\n",
    "    df = pd.read_csv(\"C:\\\\Users\\\\HP\\\\Desktop\\\\Dataset\\\\crop_new.csv\")\n",
    "    print(df.head(100))\n",
    "    All_action=df['Production']\n",
    "    New_dataframe = df.drop( [\"State_Name\",\"Production\"], axis=1)\n",
    "    x=np.reshape(np.array(New_dataframe), (New_dataframe.shape[0], New_dataframe.shape[1], 1))\n",
    "    print(x.shape)\n",
    "    return x,All_action\n",
    "\n"
   ]
  },
  {
   "cell_type": "code",
   "execution_count": 5,
   "id": "0386fcdd",
   "metadata": {
    "colab": {
     "base_uri": "https://localhost:8080/"
    },
    "executionInfo": {
     "elapsed": 631,
     "status": "ok",
     "timestamp": 1623319679633,
     "user": {
      "displayName": "sivan raman",
      "photoUrl": "",
      "userId": "12217115966512154841"
     },
     "user_tz": -330
    },
    "id": "0386fcdd",
    "outputId": "6dcafae6-ad94-4a84-fb70-1b800febe3b4"
   },
   "outputs": [
    {
     "name": "stdout",
     "output_type": "stream",
     "text": [
      "   State_Name  District_Name  Crop_Year  Season  Crop          Area  \\\n",
      "0      Kerala              0          4       0    18  1.581818e-05   \n",
      "1      Kerala              0          4       2    18  2.795455e-05   \n",
      "2      Kerala              0          4       3     0  1.836088e-06   \n",
      "3      Kerala              0          4       3     2  3.539394e-05   \n",
      "4      Kerala              0          4       3     3  1.331956e-06   \n",
      "..        ...            ...        ...     ...   ...           ...   \n",
      "95     Kerala              0          9       4    18  1.091047e-05   \n",
      "96     Kerala              1          9       0    18  8.652893e-06   \n",
      "97     Kerala              1          9       2    18  4.108815e-05   \n",
      "98     Kerala              1          9       3     0  6.695592e-06   \n",
      "99     Kerala              1          9       3     1  1.377410e-09   \n",
      "\n",
      "     rainfall  mintemperature  maxtemperature    Production  \n",
      "0   11.138136       31.068190       30.933333  1.581818e-05  \n",
      "1    2.298169       32.263843       30.880000  2.795455e-05  \n",
      "2    7.860268       31.301888       30.950000  1.836088e-06  \n",
      "3    7.860268       31.301888       30.950000  3.539394e-05  \n",
      "4    7.860268       31.301888       30.950000  1.331956e-06  \n",
      "..        ...             ...             ...           ...  \n",
      "95   7.748989       30.432968       30.940000  1.091047e-05  \n",
      "96  10.316846       29.239211       28.316667  8.652893e-06  \n",
      "97   0.337785       29.988621       28.580000  4.108815e-05  \n",
      "98   5.746622       29.043664       28.425000  6.695592e-06  \n",
      "99   5.746622       29.043664       28.425000  1.377410e-09  \n",
      "\n",
      "[100 rows x 10 columns]\n",
      "(246, 8, 1)\n"
     ]
    }
   ],
   "source": [
    "Packet_name = 'crop_new'\n",
    "x_data,y_data=getPacketData(Packet_name)"
   ]
  },
  {
   "cell_type": "code",
   "execution_count": 7,
   "id": "6f8d60db",
   "metadata": {
    "executionInfo": {
     "elapsed": 387,
     "status": "ok",
     "timestamp": 1623319684736,
     "user": {
      "displayName": "sivan raman",
      "photoUrl": "",
      "userId": "12217115966512154841"
     },
     "user_tz": -330
    },
    "id": "6f8d60db"
   },
   "outputs": [
    {
     "name": "stdout",
     "output_type": "stream",
     "text": [
      "[[0.00000000e+00]\n",
      " [6.00000000e+00]\n",
      " [3.00000000e+00]\n",
      " [5.00000000e+00]\n",
      " [1.92837466e-08]\n",
      " [7.83418075e+00]\n",
      " [3.12433205e+01]\n",
      " [3.07583333e+01]]\n",
      "1.581818181818182e-05\n"
     ]
    }
   ],
   "source": [
    "from sklearn.model_selection import train_test_split\n",
    "\n",
    "x_train,x_test,y_train,y_test=train_test_split(x_data,y_data,test_size=0.2) # split data into train and test\n",
    "print(x_train[0])\n",
    "print(y_train[0])"
   ]
  },
  {
   "cell_type": "code",
   "execution_count": 9,
   "id": "2ae598e7",
   "metadata": {
    "executionInfo": {
     "elapsed": 1718,
     "status": "ok",
     "timestamp": 1623319715114,
     "user": {
      "displayName": "sivan raman",
      "photoUrl": "",
      "userId": "12217115966512154841"
     },
     "user_tz": -330
    },
    "id": "2ae598e7"
   },
   "outputs": [],
   "source": [
    "import tensorflow as tf\n",
    "\n",
    "LSTM_model = tf.keras.models.load_model(\"C:\\\\Users\\\\HP\\\\Desktop\\\\Dataset\\model\\\\model.h5\")\n",
    "RNN_model = tf.keras.models.load_model(\"C:\\\\Users\\\\HP\\\\Desktop\\\\Dataset\\\\model\\\\model1.h5\")"
   ]
  },
  {
   "cell_type": "code",
   "execution_count": 10,
   "id": "c7b0e7c7",
   "metadata": {
    "id": "c7b0e7c7",
    "outputId": "def3d674-8b24-41bc-f462-c57e37bd0b69"
   },
   "outputs": [
    {
     "name": "stdout",
     "output_type": "stream",
     "text": [
      "Model: \"model_21\"\n",
      "_________________________________________________________________\n",
      " Layer (type)                Output Shape              Param #   \n",
      "=================================================================\n",
      " input_25 (InputLayer)       [(None, 8, 1)]            0         \n",
      "                                                                 \n",
      " lstm_17 (LSTM)              (None, 16)                1152      \n",
      "                                                                 \n",
      " leaky_re_lu_7 (LeakyReLU)   (None, 16)                0         \n",
      "                                                                 \n",
      " flatten_21 (Flatten)        (None, 16)                0         \n",
      "                                                                 \n",
      " dense_25 (Dense)            (None, 1)                 17        \n",
      "                                                                 \n",
      "=================================================================\n",
      "Total params: 1,169\n",
      "Trainable params: 1,169\n",
      "Non-trainable params: 0\n",
      "_________________________________________________________________\n"
     ]
    }
   ],
   "source": [
    "LSTM_model.summary()"
   ]
  },
  {
   "cell_type": "code",
   "execution_count": 11,
   "id": "236573a3",
   "metadata": {
    "id": "236573a3",
    "outputId": "a57a1c5c-082e-4543-d0ab-219cb83e2c60"
   },
   "outputs": [
    {
     "name": "stdout",
     "output_type": "stream",
     "text": [
      "Model: \"model_22\"\n",
      "_________________________________________________________________\n",
      " Layer (type)                Output Shape              Param #   \n",
      "=================================================================\n",
      " input_26 (InputLayer)       [(None, 8, 1)]            0         \n",
      "                                                                 \n",
      " simple_rnn_3 (SimpleRNN)    (None, 8, 8)              80        \n",
      "                                                                 \n",
      " leaky_re_lu_8 (LeakyReLU)   (None, 8, 8)              0         \n",
      "                                                                 \n",
      " flatten_22 (Flatten)        (None, 64)                0         \n",
      "                                                                 \n",
      " dense_26 (Dense)            (None, 1)                 65        \n",
      "                                                                 \n",
      "=================================================================\n",
      "Total params: 145\n",
      "Trainable params: 145\n",
      "Non-trainable params: 0\n",
      "_________________________________________________________________\n"
     ]
    }
   ],
   "source": [
    "RNN_model.summary()"
   ]
  },
  {
   "cell_type": "code",
   "execution_count": 12,
   "id": "e29aba4a",
   "metadata": {
    "id": "e29aba4a",
    "outputId": "758e7b3a-ee45-4ddf-97e4-02dd90779eb3"
   },
   "outputs": [
    {
     "ename": "NameError",
     "evalue": "name 'history_lstm' is not defined",
     "output_type": "error",
     "traceback": [
      "\u001b[1;31m---------------------------------------------------------------------------\u001b[0m",
      "\u001b[1;31mNameError\u001b[0m                                 Traceback (most recent call last)",
      "\u001b[1;32m~\\AppData\\Local\\Temp/ipykernel_8000/1950049007.py\u001b[0m in \u001b[0;36m<module>\u001b[1;34m\u001b[0m\n\u001b[0;32m      2\u001b[0m \u001b[0mplt\u001b[0m\u001b[1;33m.\u001b[0m\u001b[0mfigure\u001b[0m\u001b[1;33m(\u001b[0m\u001b[0mfigsize\u001b[0m\u001b[1;33m=\u001b[0m\u001b[1;33m(\u001b[0m\u001b[1;36m8\u001b[0m\u001b[1;33m,\u001b[0m \u001b[1;36m8\u001b[0m\u001b[1;33m)\u001b[0m\u001b[1;33m)\u001b[0m\u001b[1;33m\u001b[0m\u001b[1;33m\u001b[0m\u001b[0m\n\u001b[0;32m      3\u001b[0m \u001b[0mplt\u001b[0m\u001b[1;33m.\u001b[0m\u001b[0mtitle\u001b[0m\u001b[1;33m(\u001b[0m\u001b[1;34m\"Learning curve\"\u001b[0m\u001b[1;33m)\u001b[0m\u001b[1;33m\u001b[0m\u001b[1;33m\u001b[0m\u001b[0m\n\u001b[1;32m----> 4\u001b[1;33m \u001b[0mplt\u001b[0m\u001b[1;33m.\u001b[0m\u001b[0mplot\u001b[0m\u001b[1;33m(\u001b[0m\u001b[0mhistory_lstm\u001b[0m\u001b[1;33m.\u001b[0m\u001b[0mhistory\u001b[0m\u001b[1;33m[\u001b[0m\u001b[1;34m\"loss\"\u001b[0m\u001b[1;33m]\u001b[0m\u001b[1;33m,\u001b[0m \u001b[0mlabel\u001b[0m\u001b[1;33m=\u001b[0m\u001b[1;34m\"LSTM loss\"\u001b[0m\u001b[1;33m)\u001b[0m\u001b[1;33m\u001b[0m\u001b[1;33m\u001b[0m\u001b[0m\n\u001b[0m\u001b[0;32m      5\u001b[0m \u001b[0mplt\u001b[0m\u001b[1;33m.\u001b[0m\u001b[0mplot\u001b[0m\u001b[1;33m(\u001b[0m\u001b[0mhistory_RNN\u001b[0m\u001b[1;33m.\u001b[0m\u001b[0mhistory\u001b[0m\u001b[1;33m[\u001b[0m\u001b[1;34m\"loss\"\u001b[0m\u001b[1;33m]\u001b[0m\u001b[1;33m,\u001b[0m \u001b[0mlabel\u001b[0m\u001b[1;33m=\u001b[0m\u001b[1;34m\"RNN loss\"\u001b[0m\u001b[1;33m)\u001b[0m\u001b[1;33m\u001b[0m\u001b[1;33m\u001b[0m\u001b[0m\n\u001b[0;32m      6\u001b[0m \u001b[0mplt\u001b[0m\u001b[1;33m.\u001b[0m\u001b[0mxlabel\u001b[0m\u001b[1;33m(\u001b[0m\u001b[1;34m\"Epochs\"\u001b[0m\u001b[1;33m)\u001b[0m\u001b[1;33m\u001b[0m\u001b[1;33m\u001b[0m\u001b[0m\n",
      "\u001b[1;31mNameError\u001b[0m: name 'history_lstm' is not defined"
     ]
    },
    {
     "data": {
      "image/png": "[encoded data removed]",
      "text/plain": [
       "<Figure size 576x576 with 1 Axes>"
      ]
     },
     "metadata": {
      "needs_background": "light"
     },
     "output_type": "display_data"
    }
   ],
   "source": [
    "from matplotlib import pyplot as plt\n",
    "plt.figure(figsize=(8, 8))\n",
    "plt.title(\"Learning curve\")\n",
    "plt.plot(history_lstm.history[\"loss\"], label=\"LSTM loss\")\n",
    "plt.plot(history_RNN.history[\"loss\"], label=\"RNN loss\")\n",
    "plt.xlabel(\"Epochs\")\n",
    "plt.ylabel(\"log_loss\")\n",
    "plt.legend()"
   ]
  },
  {
   "cell_type": "code",
   "execution_count": 13,
   "id": "8d111f8b",
   "metadata": {
    "id": "8d111f8b",
    "outputId": "6aede8c6-1a01-42e1-cff8-b5795447e51c"
   },
   "outputs": [
    {
     "name": "stdout",
     "output_type": "stream",
     "text": [
      "LSTM Mean Square Loss On test data 8.6086544374755e-05\n",
      "RNN Mean Square Loss On test data 0.0007902945695307398\n"
     ]
    }
   ],
   "source": [
    "from sklearn.metrics import mean_squared_error\n",
    "y_pred=LSTM_model.predict(x_test)\n",
    "Y_pred_Rnn=RNN_model.predict(x_test)\n",
    "\n",
    "print('LSTM Mean Square Loss On test data',mean_squared_error(y_pred,y_test))\n",
    "print('RNN Mean Square Loss On test data',mean_squared_error(Y_pred_Rnn,y_test))"
   ]
  },
  {
   "cell_type": "code",
   "execution_count": 14,
   "id": "73fb67e1",
   "metadata": {
    "id": "73fb67e1",
    "outputId": "bf2fb8e0-fd33-4c90-fad6-78ffe240516d"
   },
   "outputs": [
    {
     "name": "stdout",
     "output_type": "stream",
     "text": [
      "LSTM Mean Square Loss On Full data 0.0004191131942694657\n",
      "RNN Mean Square Loss On Full data 0.0009700964968287814\n"
     ]
    }
   ],
   "source": [
    "y_pred=LSTM_model.predict(x_data)\n",
    "Y_pred_Rnn=RNN_model.predict(x_data)\n",
    "\n",
    "print('LSTM Mean Square Loss On Full data',mean_squared_error(y_pred,y_data))\n",
    "print('RNN Mean Square Loss On Full data',mean_squared_error(Y_pred_Rnn,y_data))"
   ]
  },
  {
   "cell_type": "code",
   "execution_count": 15,
   "id": "0ec92b12",
   "metadata": {
    "id": "0ec92b12",
    "outputId": "88ff2263-3b51-473d-af81-342f16ec995f"
   },
   "outputs": [
    {
     "name": "stdout",
     "output_type": "stream",
     "text": [
      "LSTM Mean Square Loss On Train data 0.0005040689649856763\n",
      "RNN Mean Square Loss On Train data 0.0010159643171744495\n"
     ]
    }
   ],
   "source": [
    "y_pred=LSTM_model.predict(x_train)\n",
    "Y_pred_Rnn=RNN_model.predict(x_train)\n",
    "\n",
    "print('LSTM Mean Square Loss On Train data',mean_squared_error(y_pred,y_train))\n",
    "print('RNN Mean Square Loss On Train data',mean_squared_error(Y_pred_Rnn,y_train))"
   ]
  },
  {
   "cell_type": "code",
   "execution_count": 16,
   "id": "d7916bc5",
   "metadata": {
    "id": "d7916bc5",
    "outputId": "6d5eb462-8651-4205-8b54-3593158f9a25"
   },
   "outputs": [
    {
     "name": "stdout",
     "output_type": "stream",
     "text": [
      "8/8 [==============================] - 0s 3ms/step - loss: 4.1911e-04\n",
      "LSTM evalution Loss 0.00041911311564035714\n"
     ]
    }
   ],
   "source": [
    "loss_lstm = LSTM_model.evaluate(x_data, y_data, verbose=1)\n",
    "print('LSTM evalution Loss',loss_lstm)"
   ]
  },
  {
   "cell_type": "code",
   "execution_count": 17,
   "id": "e9cbb69a",
   "metadata": {
    "id": "e9cbb69a",
    "outputId": "c562b717-5d6d-4b70-cc8b-d6e9d66dbbd9"
   },
   "outputs": [
    {
     "name": "stdout",
     "output_type": "stream",
     "text": [
      "8/8 - 0s - loss: 9.7009e-04 - 160ms/epoch - 20ms/step\n",
      "RNN evalution Loss 0.0009700945811346173\n"
     ]
    }
   ],
   "source": [
    "loss_rnn = RNN_model.evaluate(x_data, y_data, verbose=2)\n",
    "print('RNN evalution Loss',loss_rnn)"
   ]
  },
  {
   "cell_type": "code",
   "execution_count": 18,
   "id": "264f87a2",
   "metadata": {
    "id": "264f87a2",
    "outputId": "646117b9-9399-400b-f515-2a610b3ced26"
   },
   "outputs": [
    {
     "data": {
      "image/png": "[encoded data removed]",
      "text/plain": [
       "<Figure size 432x288 with 1 Axes>"
      ]
     },
     "metadata": {
      "needs_background": "light"
     },
     "output_type": "display_data"
    }
   ],
   "source": [
    "import matplotlib.pyplot as plt\n",
    "fig = plt.figure()\n",
    "ax = fig.add_axes([0,0.5,1,1])\n",
    "langs_mo = ['LSTM', 'RNN']\n",
    "Coma_ = [loss_lstm,loss_rnn]\n",
    "ax.bar(langs_mo,Coma_)\n",
    "plt.show()"
   ]
  },
  {
   "cell_type": "code",
   "execution_count": null,
   "id": "5cba7888",
   "metadata": {
    "id": "5cba7888"
   },
   "outputs": [],
   "source": []
  },
  {
   "cell_type": "code",
   "execution_count": null,
   "id": "5aebf2e3",
   "metadata": {},
   "outputs": [],
   "source": []
  }
 ],
 "metadata": {
  "colab": {
   "name": "Prediction_script_com.ipynb",
   "provenance": []
  },
  "kernelspec": {
   "display_name": "Python 3 (ipykernel)",
   "language": "python",
   "name": "python3"
  },
  "language_info": {
   "codemirror_mode": {
    "name": "ipython",
    "version": 3
   },
   "file_extension": ".py",
   "mimetype": "text/x-python",
   "name": "python",
   "nbconvert_exporter": "python",
   "pygments_lexer": "ipython3",
   "version": "3.9.7"
  }
 },
 "nbformat": 4,
 "nbformat_minor": 5
}
