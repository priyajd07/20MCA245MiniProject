{
 "cells": [
  {
   "cell_type": "code",
   "execution_count": 12,
   "metadata": {
    "colab": {
     "base_uri": "https://localhost:8080/"
    },
    "executionInfo": {
     "elapsed": 56126,
     "status": "ok",
     "timestamp": 1645247029333,
     "user": {
      "displayName": "Gopikrishnan Pg",
      "photoUrl": "https://lh3.googleusercontent.com/a/default-user=s64",
      "userId": "06328505300836659325"
     },
     "user_tz": -330
    },
    "id": "92Kn4ENC0GGP",
    "outputId": "c576003a-046d-408f-c426-afddad7b75f3"
   },
   "outputs": [],
   "source": [
    "#code to mount the google colab with google drive\n",
    "#from google.colab import drive\n",
    "#drive.mount('/content/drive')"
   ]
  },
  {
   "cell_type": "code",
   "execution_count": 27,
   "metadata": {
    "colab": {
     "base_uri": "https://localhost:8080/",
     "height": 217
    },
    "executionInfo": {
     "elapsed": 1661,
     "status": "error",
     "timestamp": 1645247035850,
     "user": {
      "displayName": "Gopikrishnan Pg",
      "photoUrl": "https://lh3.googleusercontent.com/a/default-user=s64",
      "userId": "06328505300836659325"
     },
     "user_tz": -330
    },
    "id": "TlJYA9hHfo7C",
    "outputId": "d181b572-1b7e-4ad9-b515-8207b407cc89"
   },
   "outputs": [
    {
     "name": "stderr",
     "output_type": "stream",
     "text": [
      "'ls' is not recognized as an internal or external command,\n",
      "operable program or batch file.\n"
     ]
    }
   ],
   "source": [
    "import os\n",
    "\n",
    "path='C:\\\\Users\\\\windos\\\\Desktop\\\\Project\\\\mysite\\\\'\n",
    "#path='/content/drive/MyDrive/News'\n",
    "!ls\n",
    "\n",
    "os.chdir(path)"
   ]
  },
  {
   "cell_type": "code",
   "execution_count": 28,
   "metadata": {
    "id": "OLBkx8z4jjVp"
   },
   "outputs": [],
   "source": [
    "import numpy as np\n",
    "import pandas as pd\n",
    "from sklearn.model_selection import train_test_split\n",
    "from sklearn.feature_extraction.text import TfidfVectorizer\n",
    "from sklearn.linear_model import PassiveAggressiveClassifier\n",
    "from sklearn.metrics import accuracy_score, confusion_matrix"
   ]
  },
  {
   "cell_type": "code",
   "execution_count": 29,
   "metadata": {
    "colab": {
     "base_uri": "https://localhost:8080/",
     "height": 261
    },
    "executionInfo": {
     "elapsed": 422,
     "status": "ok",
     "timestamp": 1645193788554,
     "user": {
      "displayName": "Sooraj Sudhakaran",
      "photoUrl": "https://lh3.googleusercontent.com/a-/AOh14Gg-SodhLXXV9J1xsSPV-n3HqS6Eh9QqupaY_s-k=s64",
      "userId": "07821623463649202570"
     },
     "user_tz": -330
    },
    "id": "nfB_OP0hkA44",
    "outputId": "49a5b99d-9aa3-434c-ff42-fcd083007faa"
   },
   "outputs": [
    {
     "name": "stderr",
     "output_type": "stream",
     "text": [
      "C:\\Users\\windos\\AppData\\Local\\Temp/ipykernel_5780/1886494844.py:3: FutureWarning: In a future version of pandas all arguments of DataFrame.drop except for the argument 'labels' will be keyword-only\n",
      "  df=df.drop('Unnamed: 0',1)\n"
     ]
    },
    {
     "data": {
      "text/html": [
       "<div>\n",
       "<style scoped>\n",
       "    .dataframe tbody tr th:only-of-type {\n",
       "        vertical-align: middle;\n",
       "    }\n",
       "\n",
       "    .dataframe tbody tr th {\n",
       "        vertical-align: top;\n",
       "    }\n",
       "\n",
       "    .dataframe thead th {\n",
       "        text-align: right;\n",
       "    }\n",
       "</style>\n",
       "<table border=\"1\" class=\"dataframe\">\n",
       "  <thead>\n",
       "    <tr style=\"text-align: right;\">\n",
       "      <th></th>\n",
       "      <th>title</th>\n",
       "      <th>text</th>\n",
       "      <th>label</th>\n",
       "    </tr>\n",
       "  </thead>\n",
       "  <tbody>\n",
       "    <tr>\n",
       "      <th>0</th>\n",
       "      <td>You Can Smell Hillary’s Fear</td>\n",
       "      <td>Daniel Greenfield, a Shillman Journalism Fello...</td>\n",
       "      <td>FAKE</td>\n",
       "    </tr>\n",
       "    <tr>\n",
       "      <th>1</th>\n",
       "      <td>Watch The Exact Moment Paul Ryan Committed Pol...</td>\n",
       "      <td>Google Pinterest Digg Linkedin Reddit Stumbleu...</td>\n",
       "      <td>FAKE</td>\n",
       "    </tr>\n",
       "    <tr>\n",
       "      <th>2</th>\n",
       "      <td>Kerry to go to Paris in gesture of sympathy</td>\n",
       "      <td>U.S. Secretary of State John F. Kerry said Mon...</td>\n",
       "      <td>REAL</td>\n",
       "    </tr>\n",
       "    <tr>\n",
       "      <th>3</th>\n",
       "      <td>Bernie supporters on Twitter erupt in anger ag...</td>\n",
       "      <td>— Kaydee King (@KaydeeKing) November 9, 2016 T...</td>\n",
       "      <td>FAKE</td>\n",
       "    </tr>\n",
       "    <tr>\n",
       "      <th>4</th>\n",
       "      <td>The Battle of New York: Why This Primary Matters</td>\n",
       "      <td>It's primary day in New York and front-runners...</td>\n",
       "      <td>REAL</td>\n",
       "    </tr>\n",
       "  </tbody>\n",
       "</table>\n",
       "</div>"
      ],
      "text/plain": [
       "                                               title  \\\n",
       "0                       You Can Smell Hillary’s Fear   \n",
       "1  Watch The Exact Moment Paul Ryan Committed Pol...   \n",
       "2        Kerry to go to Paris in gesture of sympathy   \n",
       "3  Bernie supporters on Twitter erupt in anger ag...   \n",
       "4   The Battle of New York: Why This Primary Matters   \n",
       "\n",
       "                                                text label  \n",
       "0  Daniel Greenfield, a Shillman Journalism Fello...  FAKE  \n",
       "1  Google Pinterest Digg Linkedin Reddit Stumbleu...  FAKE  \n",
       "2  U.S. Secretary of State John F. Kerry said Mon...  REAL  \n",
       "3  — Kaydee King (@KaydeeKing) November 9, 2016 T...  FAKE  \n",
       "4  It's primary day in New York and front-runners...  REAL  "
      ]
     },
     "execution_count": 29,
     "metadata": {},
     "output_type": "execute_result"
    }
   ],
   "source": [
    "#Read the Data\n",
    "df = pd.read_csv(path+'news.csv',index_col=False)\n",
    "df=df.drop('Unnamed: 0',1)\n",
    "df.head()"
   ]
  },
  {
   "cell_type": "code",
   "execution_count": 30,
   "metadata": {
    "colab": {
     "base_uri": "https://localhost:8080/"
    },
    "executionInfo": {
     "elapsed": 30,
     "status": "ok",
     "timestamp": 1645193788555,
     "user": {
      "displayName": "Sooraj Sudhakaran",
      "photoUrl": "https://lh3.googleusercontent.com/a-/AOh14Gg-SodhLXXV9J1xsSPV-n3HqS6Eh9QqupaY_s-k=s64",
      "userId": "07821623463649202570"
     },
     "user_tz": -330
    },
    "id": "dxvjiBH2j-Fd",
    "outputId": "d0aefa5d-bf76-49e2-e661-0a42092a2ce2"
   },
   "outputs": [
    {
     "data": {
      "text/plain": [
       "(6335, 3)"
      ]
     },
     "execution_count": 30,
     "metadata": {},
     "output_type": "execute_result"
    }
   ],
   "source": [
    "df.shape"
   ]
  },
  {
   "cell_type": "code",
   "execution_count": 31,
   "metadata": {
    "colab": {
     "base_uri": "https://localhost:8080/"
    },
    "executionInfo": {
     "elapsed": 23,
     "status": "ok",
     "timestamp": 1645193789055,
     "user": {
      "displayName": "Sooraj Sudhakaran",
      "photoUrl": "https://lh3.googleusercontent.com/a-/AOh14Gg-SodhLXXV9J1xsSPV-n3HqS6Eh9QqupaY_s-k=s64",
      "userId": "07821623463649202570"
     },
     "user_tz": -330
    },
    "id": "F7WGZ40x0pY2",
    "outputId": "5f3ba2d3-d212-4b52-8674-30fe1919d3b7"
   },
   "outputs": [
    {
     "data": {
      "text/plain": [
       "0    FAKE\n",
       "1    FAKE\n",
       "2    REAL\n",
       "3    FAKE\n",
       "4    REAL\n",
       "Name: label, dtype: object"
      ]
     },
     "execution_count": 31,
     "metadata": {},
     "output_type": "execute_result"
    }
   ],
   "source": [
    "labels = df['label']\n",
    "labels.head()"
   ]
  },
  {
   "cell_type": "code",
   "execution_count": 32,
   "metadata": {
    "id": "zhX2ffoEFBxM"
   },
   "outputs": [],
   "source": [
    "#split into train test\n",
    "x_train, x_test, y_train, y_test = train_test_split(df['text'], labels, test_size = 0.2, random_state = 7)"
   ]
  },
  {
   "cell_type": "code",
   "execution_count": 33,
   "metadata": {
    "colab": {
     "base_uri": "https://localhost:8080/"
    },
    "executionInfo": {
     "elapsed": 12133,
     "status": "ok",
     "timestamp": 1645193801173,
     "user": {
      "displayName": "Sooraj Sudhakaran",
      "photoUrl": "https://lh3.googleusercontent.com/a-/AOh14Gg-SodhLXXV9J1xsSPV-n3HqS6Eh9QqupaY_s-k=s64",
      "userId": "07821623463649202570"
     },
     "user_tz": -330
    },
    "id": "6jkxDB3bFqaD",
    "outputId": "8924cf10-fe77-4fe1-fd8b-37389a668d85"
   },
   "outputs": [
    {
     "name": "stdout",
     "output_type": "stream",
     "text": [
      "<class 'pandas.core.series.Series'>\n",
      "6237    The head of a leading survivalist group has ma...\n",
      "3722    ‹ › Arnaldo Rodgers is a trained and educated ...\n",
      "5774    Patty Sanchez, 51, used to eat 13,000 calories...\n",
      "336     But Benjamin Netanyahu’s reelection was regard...\n",
      "3622    John Kasich was killing it with these Iowa vot...\n",
      "                              ...                        \n",
      "5699                                                     \n",
      "2550    It’s not that Americans won’t elect wealthy pr...\n",
      "537     Anyone writing sentences like ‘nevertheless fu...\n",
      "1220    More Catholics are in Congress than ever befor...\n",
      "4271    It was hosted by CNN, and the presentation was...\n",
      "Name: text, Length: 5068, dtype: object\n"
     ]
    }
   ],
   "source": [
    "import pickle\n",
    "#Initialize a TfidfVectorizer\n",
    "tfidf_vectorizer = TfidfVectorizer(stop_words='english', max_df = 0.7)\n",
    "\n",
    "print(type(x_train))\n",
    "print(x_train)\n",
    "\n",
    "#Fit and transform train and test set\n",
    "tfidf_train = tfidf_vectorizer.fit_transform(x_train)\n",
    "tfidf_test = tfidf_vectorizer.transform(x_test)\n",
    "\n",
    "# Save the vectorizer\n",
    "vec_file = 'C:\\\\Users\\\\windos\\\\Desktop\\\\Project\\\\mysite\\\\vectorizer.pickle'\n",
    "pickle.dump(tfidf_vectorizer, open(vec_file, 'wb'))"
   ]
  },
  {
   "cell_type": "code",
   "execution_count": 34,
   "metadata": {
    "colab": {
     "base_uri": "https://localhost:8080/"
    },
    "executionInfo": {
     "elapsed": 51,
     "status": "ok",
     "timestamp": 1645193801176,
     "user": {
      "displayName": "Sooraj Sudhakaran",
      "photoUrl": "https://lh3.googleusercontent.com/a-/AOh14Gg-SodhLXXV9J1xsSPV-n3HqS6Eh9QqupaY_s-k=s64",
      "userId": "07821623463649202570"
     },
     "user_tz": -330
    },
    "id": "jR2LsKSsFyCl",
    "outputId": "03ba71f9-7f4e-4cd8-e327-7684c813d759"
   },
   "outputs": [
    {
     "data": {
      "text/plain": [
       "PassiveAggressiveClassifier(max_iter=50)"
      ]
     },
     "execution_count": 34,
     "metadata": {},
     "output_type": "execute_result"
    }
   ],
   "source": [
    "# Initialize a PassiveAggressiveClassifier and fit the train data\n",
    "pac = PassiveAggressiveClassifier(max_iter = 50)\n",
    "pac.fit(tfidf_train, y_train)"
   ]
  },
  {
   "cell_type": "code",
   "execution_count": 35,
   "metadata": {
    "colab": {
     "base_uri": "https://localhost:8080/"
    },
    "executionInfo": {
     "elapsed": 48,
     "status": "ok",
     "timestamp": 1645193801177,
     "user": {
      "displayName": "Sooraj Sudhakaran",
      "photoUrl": "https://lh3.googleusercontent.com/a-/AOh14Gg-SodhLXXV9J1xsSPV-n3HqS6Eh9QqupaY_s-k=s64",
      "userId": "07821623463649202570"
     },
     "user_tz": -330
    },
    "id": "CoCZPFe1F2p2",
    "outputId": "b14910c8-c582-43f9-bfa4-85096e798fa5"
   },
   "outputs": [
    {
     "name": "stdout",
     "output_type": "stream",
     "text": [
      "Accuracy: 92.98\n"
     ]
    }
   ],
   "source": [
    "#Predict on the test set and calculate accuracy\n",
    "y_pred = pac.predict(tfidf_test)\n",
    "score = accuracy_score(y_test, y_pred)\n",
    "print(f'Accuracy: {round(score * 100, 2)}')"
   ]
  },
  {
   "cell_type": "markdown",
   "metadata": {
    "id": "OER3TChoj5ao"
   },
   "source": [
    "## Testing"
   ]
  },
  {
   "cell_type": "code",
   "execution_count": 37,
   "metadata": {
    "colab": {
     "base_uri": "https://localhost:8080/"
    },
    "executionInfo": {
     "elapsed": 8,
     "status": "ok",
     "timestamp": 1645193842801,
     "user": {
      "displayName": "Sooraj Sudhakaran",
      "photoUrl": "https://lh3.googleusercontent.com/a-/AOh14Gg-SodhLXXV9J1xsSPV-n3HqS6Eh9QqupaY_s-k=s64",
      "userId": "07821623463649202570"
     },
     "user_tz": -330
    },
    "id": "-H2aYJ4Hj8Bu",
    "outputId": "26e0df45-0716-41e5-ab00-4b756d4ea62b"
   },
   "outputs": [
    {
     "name": "stdout",
     "output_type": "stream",
     "text": [
      "['REAL']\n"
     ]
    },
    {
     "name": "stderr",
     "output_type": "stream",
     "text": [
      "C:\\Users\\windos\\anaconda3\\lib\\site-packages\\sklearn\\base.py:310: UserWarning: Trying to unpickle estimator TfidfTransformer from version 1.0.2 when using version 0.24.2. This might lead to breaking code or invalid results. Use at your own risk.\n",
      "  warnings.warn(\n",
      "C:\\Users\\windos\\anaconda3\\lib\\site-packages\\sklearn\\base.py:310: UserWarning: Trying to unpickle estimator TfidfVectorizer from version 1.0.2 when using version 0.24.2. This might lead to breaking code or invalid results. Use at your own risk.\n",
      "  warnings.warn(\n"
     ]
    }
   ],
   "source": [
    "sample_text=[\"The Battle of New York: Why This Primary Matters\"]\n",
    "\n",
    "loaded_vectorizer = pickle.load(open('vectorizer.pickle', 'rb'))\n",
    "output_label=pac.predict(loaded_vectorizer.transform(sample_text))\n",
    "print(output_label)"
   ]
  },
  {
   "cell_type": "code",
   "execution_count": null,
   "metadata": {},
   "outputs": [],
   "source": []
  },
  {
   "cell_type": "code",
   "execution_count": null,
   "metadata": {},
   "outputs": [],
   "source": []
  }
 ],
 "metadata": {
  "colab": {
   "collapsed_sections": [],
   "name": "fakeorreal.ipynb",
   "provenance": []
  },
  "kernelspec": {
   "display_name": "Python 3 (ipykernel)",
   "language": "python",
   "name": "python3"
  },
  "language_info": {
   "codemirror_mode": {
    "name": "ipython",
    "version": 3
   },
   "file_extension": ".py",
   "mimetype": "text/x-python",
   "name": "python",
   "nbconvert_exporter": "python",
   "pygments_lexer": "ipython3",
   "version": "3.9.7"
  }
 },
 "nbformat": 4,
 "nbformat_minor": 1
}
