{
 "cells": [
  {
   "cell_type": "code",
   "execution_count": 1,
   "id": "0fba9ade",
   "metadata": {},
   "outputs": [],
   "source": [
    "#!pip install pandas\n",
    "#!pip install numpy\n",
    "#!pip install seaborn\n",
    "#!pip install matplotlib\n",
    "%matplotlib inline\n",
    "\n",
    "import os\n",
    "import numpy as np\n",
    "import pandas as pd\n",
    "import seaborn as sns  # For visualization\n",
    "import matplotlib.pyplot as plt   # For visualization\n",
    "\n",
    "sns.set(style='ticks', context='talk')\n",
    "na_values = ['NO CLUE', 'N/A', '0']"
   ]
  },
  {
   "cell_type": "code",
   "execution_count": 2,
   "id": "fbe75862",
   "metadata": {},
   "outputs": [],
   "source": [
    "ytdspam_psy = pd.read_csv('C:\\\\Users\\\\hp\\\\Downloads\\\\spamornot\\\\Youtube01-Psy.csv')\n",
    "ytdspam_kattyparry = pd.read_csv('C:\\\\Users\\\\hp\\\\Downloads\\\\spamornot\\\\Youtube02-KatyPerry.csv')\n",
    "ytdspam_LMFAO = pd.read_csv('C:\\\\Users\\\\hp\\\\Downloads\\\\spamornot\\\\Youtube03-LMFAO.csv')\n",
    "ytdspam_Emnm = pd.read_csv('C:\\\\Users\\\\hp\\\\Downloads\\\\spamornot\\\\Youtube04-Eminem.csv')"
   ]
  },
  {
   "cell_type": "code",
   "execution_count": 3,
   "id": "6f1f57e0",
   "metadata": {},
   "outputs": [],
   "source": [
    "\n",
    "ytd_data = pd.concat([ytdspam_psy,ytdspam_kattyparry,ytdspam_LMFAO,ytdspam_Emnm])"
   ]
  },
  {
   "cell_type": "code",
   "execution_count": 4,
   "id": "8623bd85",
   "metadata": {},
   "outputs": [
    {
     "data": {
      "text/html": [
       "<div>\n",
       "<style scoped>\n",
       "    .dataframe tbody tr th:only-of-type {\n",
       "        vertical-align: middle;\n",
       "    }\n",
       "\n",
       "    .dataframe tbody tr th {\n",
       "        vertical-align: top;\n",
       "    }\n",
       "\n",
       "    .dataframe thead th {\n",
       "        text-align: right;\n",
       "    }\n",
       "</style>\n",
       "<table border=\"1\" class=\"dataframe\">\n",
       "  <thead>\n",
       "    <tr style=\"text-align: right;\">\n",
       "      <th></th>\n",
       "      <th>COMMENT_ID</th>\n",
       "      <th>AUTHOR</th>\n",
       "      <th>DATE</th>\n",
       "      <th>CONTENT</th>\n",
       "      <th>CLASS</th>\n",
       "    </tr>\n",
       "  </thead>\n",
       "  <tbody>\n",
       "    <tr>\n",
       "      <th>0</th>\n",
       "      <td>LZQPQhLyRh80UYxNuaDWhIGQYNQ96IuCg-AYWqNPjpU</td>\n",
       "      <td>Julius NM</td>\n",
       "      <td>2013-11-07T06:20:48</td>\n",
       "      <td>Huh, anyway check out this you[tube] channel: ...</td>\n",
       "      <td>1</td>\n",
       "    </tr>\n",
       "    <tr>\n",
       "      <th>1</th>\n",
       "      <td>LZQPQhLyRh_C2cTtd9MvFRJedxydaVW-2sNg5Diuo4A</td>\n",
       "      <td>adam riyati</td>\n",
       "      <td>2013-11-07T12:37:15</td>\n",
       "      <td>Hey guys check out my new channel and our firs...</td>\n",
       "      <td>1</td>\n",
       "    </tr>\n",
       "    <tr>\n",
       "      <th>2</th>\n",
       "      <td>LZQPQhLyRh9MSZYnf8djyk0gEF9BHDPYrrK-qCczIY8</td>\n",
       "      <td>Evgeny Murashkin</td>\n",
       "      <td>2013-11-08T17:34:21</td>\n",
       "      <td>just for test I have to say murdev.com</td>\n",
       "      <td>1</td>\n",
       "    </tr>\n",
       "    <tr>\n",
       "      <th>3</th>\n",
       "      <td>z13jhp0bxqncu512g22wvzkasxmvvzjaz04</td>\n",
       "      <td>ElNino Melendez</td>\n",
       "      <td>2013-11-09T08:28:43</td>\n",
       "      <td>me shaking my sexy ass on my channel enjoy ^_^ ﻿</td>\n",
       "      <td>1</td>\n",
       "    </tr>\n",
       "    <tr>\n",
       "      <th>4</th>\n",
       "      <td>z13fwbwp1oujthgqj04chlngpvzmtt3r3dw</td>\n",
       "      <td>GsMega</td>\n",
       "      <td>2013-11-10T16:05:38</td>\n",
       "      <td>watch?v=vtaRGgvGtWQ   Check this out .﻿</td>\n",
       "      <td>1</td>\n",
       "    </tr>\n",
       "  </tbody>\n",
       "</table>\n",
       "</div>"
      ],
      "text/plain": [
       "                                    COMMENT_ID            AUTHOR  \\\n",
       "0  LZQPQhLyRh80UYxNuaDWhIGQYNQ96IuCg-AYWqNPjpU         Julius NM   \n",
       "1  LZQPQhLyRh_C2cTtd9MvFRJedxydaVW-2sNg5Diuo4A       adam riyati   \n",
       "2  LZQPQhLyRh9MSZYnf8djyk0gEF9BHDPYrrK-qCczIY8  Evgeny Murashkin   \n",
       "3          z13jhp0bxqncu512g22wvzkasxmvvzjaz04   ElNino Melendez   \n",
       "4          z13fwbwp1oujthgqj04chlngpvzmtt3r3dw            GsMega   \n",
       "\n",
       "                  DATE                                            CONTENT  \\\n",
       "0  2013-11-07T06:20:48  Huh, anyway check out this you[tube] channel: ...   \n",
       "1  2013-11-07T12:37:15  Hey guys check out my new channel and our firs...   \n",
       "2  2013-11-08T17:34:21             just for test I have to say murdev.com   \n",
       "3  2013-11-09T08:28:43   me shaking my sexy ass on my channel enjoy ^_^ ﻿   \n",
       "4  2013-11-10T16:05:38            watch?v=vtaRGgvGtWQ   Check this out .﻿   \n",
       "\n",
       "   CLASS  \n",
       "0      1  \n",
       "1      1  \n",
       "2      1  \n",
       "3      1  \n",
       "4      1  "
      ]
     },
     "execution_count": 4,
     "metadata": {},
     "output_type": "execute_result"
    }
   ],
   "source": [
    "\n",
    "ytd_data.head()"
   ]
  },
  {
   "cell_type": "code",
   "execution_count": 5,
   "id": "607e27a6",
   "metadata": {},
   "outputs": [
    {
     "data": {
      "text/html": [
       "<div>\n",
       "<style scoped>\n",
       "    .dataframe tbody tr th:only-of-type {\n",
       "        vertical-align: middle;\n",
       "    }\n",
       "\n",
       "    .dataframe tbody tr th {\n",
       "        vertical-align: top;\n",
       "    }\n",
       "\n",
       "    .dataframe thead th {\n",
       "        text-align: right;\n",
       "    }\n",
       "</style>\n",
       "<table border=\"1\" class=\"dataframe\">\n",
       "  <thead>\n",
       "    <tr style=\"text-align: right;\">\n",
       "      <th></th>\n",
       "      <th>CONTENT</th>\n",
       "      <th>CLASS</th>\n",
       "    </tr>\n",
       "  </thead>\n",
       "  <tbody>\n",
       "    <tr>\n",
       "      <th>0</th>\n",
       "      <td>Huh, anyway check out this you[tube] channel: ...</td>\n",
       "      <td>1</td>\n",
       "    </tr>\n",
       "    <tr>\n",
       "      <th>1</th>\n",
       "      <td>Hey guys check out my new channel and our firs...</td>\n",
       "      <td>1</td>\n",
       "    </tr>\n",
       "    <tr>\n",
       "      <th>2</th>\n",
       "      <td>just for test I have to say murdev.com</td>\n",
       "      <td>1</td>\n",
       "    </tr>\n",
       "    <tr>\n",
       "      <th>3</th>\n",
       "      <td>me shaking my sexy ass on my channel enjoy ^_^ ﻿</td>\n",
       "      <td>1</td>\n",
       "    </tr>\n",
       "    <tr>\n",
       "      <th>4</th>\n",
       "      <td>watch?v=vtaRGgvGtWQ   Check this out .﻿</td>\n",
       "      <td>1</td>\n",
       "    </tr>\n",
       "    <tr>\n",
       "      <th>...</th>\n",
       "      <td>...</td>\n",
       "      <td>...</td>\n",
       "    </tr>\n",
       "    <tr>\n",
       "      <th>95</th>\n",
       "      <td>Plizz withing my channel ﻿</td>\n",
       "      <td>1</td>\n",
       "    </tr>\n",
       "    <tr>\n",
       "      <th>96</th>\n",
       "      <td>I made a gaming channel (Unique right?) :L Ang...</td>\n",
       "      <td>1</td>\n",
       "    </tr>\n",
       "    <tr>\n",
       "      <th>97</th>\n",
       "      <td>Please help me go here http://www.gofundme.com...</td>\n",
       "      <td>1</td>\n",
       "    </tr>\n",
       "    <tr>\n",
       "      <th>98</th>\n",
       "      <td>Anybody who subscribes to me will get 10 subsc...</td>\n",
       "      <td>1</td>\n",
       "    </tr>\n",
       "    <tr>\n",
       "      <th>99</th>\n",
       "      <td>http://thepiratebay.se/torrent/6381501/Timothy...</td>\n",
       "      <td>1</td>\n",
       "    </tr>\n",
       "  </tbody>\n",
       "</table>\n",
       "<p>100 rows × 2 columns</p>\n",
       "</div>"
      ],
      "text/plain": [
       "                                              CONTENT  CLASS\n",
       "0   Huh, anyway check out this you[tube] channel: ...      1\n",
       "1   Hey guys check out my new channel and our firs...      1\n",
       "2              just for test I have to say murdev.com      1\n",
       "3    me shaking my sexy ass on my channel enjoy ^_^ ﻿      1\n",
       "4             watch?v=vtaRGgvGtWQ   Check this out .﻿      1\n",
       "..                                                ...    ...\n",
       "95                         Plizz withing my channel ﻿      1\n",
       "96  I made a gaming channel (Unique right?) :L Ang...      1\n",
       "97  Please help me go here http://www.gofundme.com...      1\n",
       "98  Anybody who subscribes to me will get 10 subsc...      1\n",
       "99  http://thepiratebay.se/torrent/6381501/Timothy...      1\n",
       "\n",
       "[100 rows x 2 columns]"
      ]
     },
     "execution_count": 5,
     "metadata": {},
     "output_type": "execute_result"
    }
   ],
   "source": [
    "\n",
    "ytd_data.loc[:,'CONTENT':'CLASS'].head(100)"
   ]
  },
  {
   "cell_type": "code",
   "execution_count": 6,
   "id": "d1c2e600",
   "metadata": {},
   "outputs": [],
   "source": [
    "SpmMatch = [\"check my video\", \"Follow me\", \"watch my videos\",\"subscribe\",\"Please share\",\"Check out\",\"my channel\",\"my page\",\n",
    "            \"giftcard\",\"promos\",\"sex\",\"channel\",\"new track\",\"ATTENTION\",\"HTTP\",\"subs\",\"check\",\"like them\",\"new album\",\"Hack\",\n",
    "            \"VOTE\",\"please listen\",\"join me\",\"help me\",\"help\",\"youtube\",\"gay\",\"share\",\"fuck\",\"make money\",\"visit\",\"Donate\",\n",
    "            \"trailer\",\"free\",\"channel\",\"instagram\",\"facebook\",\"soundcloud\",\"support\",\"website\"]"
   ]
  },
  {
   "cell_type": "code",
   "execution_count": 7,
   "id": "6a2227c2",
   "metadata": {},
   "outputs": [
    {
     "name": "stdout",
     "output_type": "stream",
     "text": [
      "0      2\n",
      "1      3\n",
      "2      0\n",
      "3      2\n",
      "4      1\n",
      "      ..\n",
      "443    2\n",
      "444    1\n",
      "445    1\n",
      "446    0\n",
      "447    0\n",
      "Name: SPM_CNT, Length: 1586, dtype: int64\n"
     ]
    }
   ],
   "source": [
    "\n",
    "# Count the number of spam words in the comment using the spam dictionary\n",
    "ytd_data['SPM_CNT'] = ytd_data['CONTENT'].str.upper().str.count(str.upper(\"|\".join(SpmMatch)))\n",
    "print(ytd_data['SPM_CNT'])"
   ]
  },
  {
   "cell_type": "code",
   "execution_count": 8,
   "id": "85ccebeb",
   "metadata": {},
   "outputs": [],
   "source": [
    "stop_words = [ \"a\",\"i\",\"me\",\"my\",\"we\",\"our\",\"for\", \"ours\",\"ourselves\", \"you\", \"your\",\"yourself\",\"yourselves\", \"he\",\"him\", \"his\", \"himself\",\"her\",\"hers\", \"herself\",\"it\", \"its\", \"itself\",\"them\",\"their\", \"theirs\",\"themselves\", \"what\", \"which\",\"whom\",\"this\", \"that\",\"these\", \"those\", \"am\",\"are\",\"was\", \"were\",\"be\", \"been\", \"being\",\"has\",\"had\", \"having\",\"do\", \"does\", \"did\",\"would\",\"should\", \"could\",\"ought\", \"i'm\", \"you're\",\"she's\",\"it's\", \"we're\",\"they're\", \"i've\", \"you've\",\"they've\",\"i'd\", \"you'd\",\"he'd\", \"she'd\", \"we'd\",\"i'll\",\"you'll\", \"he'll\",\"she'll\", \"we'll\", \"they'll\",\"aren't\",\"wasn't\", \"weren't\",\"hasn't\", \"haven't\", \"hadn't\",\"don't\",\"didn't\", \"won't\",\"wouldn't\", \"shan't\", \"shouldn't\",\"cannot\",\"couldn't\", \"mustn't\",\"let's\", \"that's\", \"who's\",\"here's\",\"there's\", \"when's\",\"where's\", \"why's\", \"how's\",\"an\",\"the\", \"and\",\"but\", \"if\", \"or\",\"as\",\"until\", \"while\",\"of\", \"at\", \"by\",\"with\",\"about\", \"against\",\"between\", \"into\", \"through\",\"before\",\"after\", \"above\",\"below\", \"to\", \"from\",\"down\",\"in\", \"out\",\"on\", \"off\", \"over\",\"again\",\"further\", \"then\",\"once\", \"here\", \"there\",\"where\",\"why\", \"how\",\"all\", \"any\", \"both\",\"few\",\"more\", \"most\",\"other\", \"some\", \"such\",\"nor\",\"not\", \"only\",\"own\", \"same\", \"so\",\"too\",\"very\"]"
   ]
  },
  {
   "cell_type": "code",
   "execution_count": 9,
   "id": "75663c9d",
   "metadata": {},
   "outputs": [],
   "source": [
    "\n",
    "ytd_data['IS_URL'] = ytd_data['CONTENT'].str.upper().str.contains(str.upper('http|https|www|.com'))"
   ]
  },
  {
   "cell_type": "code",
   "execution_count": 10,
   "id": "9462e37f",
   "metadata": {},
   "outputs": [
    {
     "data": {
      "text/plain": [
       "<AxesSubplot:xlabel='CLASS', ylabel='IS_URL'>"
      ]
     },
     "execution_count": 10,
     "metadata": {},
     "output_type": "execute_result"
    },
    {
     "data": {
      "image/png": "[encoded data removed]",
      "text/plain": [
       "<Figure size 432x288 with 1 Axes>"
      ]
     },
     "metadata": {},
     "output_type": "display_data"
    }
   ],
   "source": [
    "sns.barplot(x='CLASS', y='IS_URL', data=ytd_data) "
   ]
  },
  {
   "cell_type": "code",
   "execution_count": null,
   "id": "7b556db9",
   "metadata": {},
   "outputs": [],
   "source": []
  }
 ],
 "metadata": {
  "kernelspec": {
   "display_name": "Python 3 (ipykernel)",
   "language": "python",
   "name": "python3"
  },
  "language_info": {
   "codemirror_mode": {
    "name": "ipython",
    "version": 3
   },
   "file_extension": ".py",
   "mimetype": "text/x-python",
   "name": "python",
   "nbconvert_exporter": "python",
   "pygments_lexer": "ipython3",
   "version": "3.9.7"
  }
 },
 "nbformat": 4,
 "nbformat_minor": 5
}
